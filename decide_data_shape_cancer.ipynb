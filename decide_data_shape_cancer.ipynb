{
 "cells": [
  {
   "cell_type": "markdown",
   "metadata": {},
   "source": [
    "# 确定数据截取形状、位置"
   ]
  },
  {
   "cell_type": "code",
   "execution_count": null,
   "metadata": {},
   "outputs": [],
   "source": [
    "import numpy as np\n",
    "import preprocess\n",
    "\n",
    "% matplotlib inline\n",
    "import matplotlib.pyplot as plt"
   ]
  },
  {
   "cell_type": "code",
   "execution_count": null,
   "metadata": {},
   "outputs": [],
   "source": [
    "with open('./final_dict_ls.txt', 'r') as f:\n",
    "    dc = eval(f.read())"
   ]
  },
  {
   "cell_type": "markdown",
   "metadata": {},
   "source": [
    "## 判断癌症所在范围"
   ]
  },
  {
   "cell_type": "code",
   "execution_count": null,
   "metadata": {},
   "outputs": [],
   "source": [
    "# 从前100个数据中找到最低的cancer的高度和最高的cancer的高度\n",
    "c_lowest = 1000\n",
    "c_highest = 0\n",
    "c_l_n = 0\n",
    "c_h_n = 0\n",
    "d = dc[:100]\n",
    "for i in range(len(d)):\n",
    "    c = preprocess.nii2array(d[i][\"cancer\"])\n",
    "    c_l = 0\n",
    "    c_h = 0\n",
    "    if c.shape[0] < 70:\n",
    "        continue\n",
    "    for j in range(c.shape[0]):\n",
    "        if c[j].sum() != 0:\n",
    "            c_l = j\n",
    "            break\n",
    "    for j in range(1, c.shape[0]):\n",
    "        if c[-j].sum() != 0:\n",
    "            c_h = c.shape[0] - j\n",
    "            break\n",
    "    if c_l < c_lowest:\n",
    "        c_lowest = c_l\n",
    "        c_l_n = i\n",
    "    if c_h > c_highest:\n",
    "        c_highest = c_h\n",
    "        c_h_n = i\n",
    "        \n",
    "print(c_lowest, c_highest, c_l_n, c_h_n)"
   ]
  },
  {
   "cell_type": "markdown",
   "metadata": {},
   "source": [
    "## 查看癌症区域"
   ]
  },
  {
   "cell_type": "code",
   "execution_count": null,
   "metadata": {},
   "outputs": [],
   "source": [
    "# 检查一下\n",
    "low = preprocess.nii2array(dc[55][\"cancer\"])\n",
    "plt.imshow(low[9], cmap=\"gray\")\n",
    "plt.show()\n",
    "high = preprocess.nii2array(dc[83][\"cancer\"])\n",
    "plt.imshow(high[73], cmap=\"gray\")\n",
    "plt.show()"
   ]
  },
  {
   "cell_type": "markdown",
   "metadata": {},
   "source": [
    "# 最后决定，cancer取[10: 75]的图片范围"
   ]
  }
 ],
 "metadata": {
  "language_info": {
   "name": "python"
  },
  "orig_nbformat": 4
 },
 "nbformat": 4,
 "nbformat_minor": 2
}
